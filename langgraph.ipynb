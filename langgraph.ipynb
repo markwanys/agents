{
 "cells": [
  {
   "cell_type": "code",
   "execution_count": 1,
   "metadata": {},
   "outputs": [
    {
     "ename": "ModuleNotFoundError",
     "evalue": "No module named 'langchain_core'",
     "output_type": "error",
     "traceback": [
      "\u001b[31m---------------------------------------------------------------------------\u001b[39m",
      "\u001b[31mModuleNotFoundError\u001b[39m                       Traceback (most recent call last)",
      "\u001b[36mCell\u001b[39m\u001b[36m \u001b[39m\u001b[32mIn[1]\u001b[39m\u001b[32m, line 1\u001b[39m\n\u001b[32m----> \u001b[39m\u001b[32m1\u001b[39m \u001b[38;5;28;01mfrom\u001b[39;00m\u001b[38;5;250m \u001b[39m\u001b[34;01mlangchain_core\u001b[39;00m\u001b[34;01m.\u001b[39;00m\u001b[34;01mtools\u001b[39;00m\u001b[38;5;250m \u001b[39m\u001b[38;5;28;01mimport\u001b[39;00m tool\n\u001b[32m      2\u001b[39m \u001b[38;5;28;01mfrom\u001b[39;00m\u001b[38;5;250m \u001b[39m\u001b[34;01mtyping_extensions\u001b[39;00m\u001b[38;5;250m \u001b[39m\u001b[38;5;28;01mimport\u001b[39;00m Literal, TypedDict\n\u001b[32m      3\u001b[39m \u001b[38;5;28;01mfrom\u001b[39;00m\u001b[38;5;250m \u001b[39m\u001b[34;01mlangchain\u001b[39;00m\u001b[34;01m.\u001b[39;00m\u001b[34;01mchat_models\u001b[39;00m\u001b[38;5;250m \u001b[39m\u001b[38;5;28;01mimport\u001b[39;00m ChatOpenAI\n",
      "\u001b[31mModuleNotFoundError\u001b[39m: No module named 'langchain_core'"
     ]
    }
   ],
   "source": [
    "from langchain_core.tools import tool\n",
    "from typing_extensions import Literal, TypedDict\n",
    "from langchain.chat_models import ChatOpenAI\n",
    "from langchain_anthropic import ChatAnthropic\n",
    "import os\n",
    "\n",
    "from langgraph.graph import MessagesState\n",
    "from langchain_core.messages import SystemMessage, HumanMessage, ToolMessage\n",
    "from langgraph.graph import StateGraph, START, END\n",
    "from IPython.display import Image, display"
   ]
  },
  {
   "cell_type": "code",
   "execution_count": 18,
   "metadata": {},
   "outputs": [
    {
     "data": {
      "text/plain": [
       "{'graph_output': 'My name is Lance', 'foo': 'HEHEHE'}"
      ]
     },
     "execution_count": 18,
     "metadata": {},
     "output_type": "execute_result"
    }
   ],
   "source": [
    "class InputState(TypedDict):\n",
    "    user_input: str\n",
    "\n",
    "class OutputState(TypedDict):\n",
    "    graph_output: str\n",
    "    foo: str\n",
    "\n",
    "class OverallState(TypedDict):\n",
    "    foo: str\n",
    "    user_input: str\n",
    "    graph_output: str\n",
    "\n",
    "class PrivateState(TypedDict):\n",
    "    bar: str\n",
    "\n",
    "def node_1(state: InputState) -> OverallState:\n",
    "    # Write to OverallState\n",
    "    return {\"foo\": state[\"user_input\"] + \" name\"}\n",
    "\n",
    "def node_2(state: OverallState) -> PrivateState:\n",
    "    # Read from OverallState, write to PrivateState\n",
    "    return {\"bar\": state[\"foo\"] + \" is\"}\n",
    "\n",
    "def node_3(state: PrivateState) -> OutputState:\n",
    "    # Read from PrivateState, write to OutputState\n",
    "    return {\"graph_output\": state[\"bar\"] + \" Lance\",\n",
    "            \"foo\": \"HEHEHE\"}\n",
    "\n",
    "builder = StateGraph(OverallState,input=InputState,output=OutputState)\n",
    "builder.add_node(\"node_1\", node_1)\n",
    "builder.add_node(\"node_2\", node_2)\n",
    "builder.add_node(\"node_3\", node_3)\n",
    "builder.add_edge(START, \"node_1\")\n",
    "builder.add_edge(\"node_1\", \"node_2\")\n",
    "builder.add_edge(\"node_2\", \"node_3\")\n",
    "builder.add_edge(\"node_3\", END)\n",
    "\n",
    "graph = builder.compile()\n",
    "graph.invoke({\"user_input\":\"My\"})"
   ]
  },
  {
   "cell_type": "code",
   "execution_count": 2,
   "metadata": {},
   "outputs": [],
   "source": [
    "OPENAI_API_KEY = os.environ.get(\"OPENAI_API_KEY\")\n",
    "ANTHROPIC_API_KEY = os.environ.get(\"ANTHROPIC_API_KEY\")\n",
    "\n",
    "# llm = ChatOpenAI(model_name=\"gpt-3.5-turbo\", openai_api_key=OPENAI_API_KEY)\n",
    "llm = ChatAnthropic(model=\"claude-3-5-sonnet-latest\", anthropic_api_key=ANTHROPIC_API_KEY)\n"
   ]
  },
  {
   "cell_type": "code",
   "execution_count": null,
   "metadata": {},
   "outputs": [
    {
     "data": {
      "text/plain": [
       "[{'name': 'multiply',\n",
       "  'args': {'a': 2, 'b': 3},\n",
       "  'id': 'toolu_01LhquchPcyaxgQkEMNCRGjM',\n",
       "  'type': 'tool_call'}]"
      ]
     },
     "execution_count": 3,
     "metadata": {},
     "output_type": "execute_result"
    }
   ],
   "source": [
    "# Schema for structured output\n",
    "from pydantic import BaseModel, Field\n",
    "\n",
    "class SearchQuery(BaseModel):\n",
    "    search_query: str = Field(None, description=\"Query that is optimized web search.\")\n",
    "    justification: str = Field(\n",
    "        None, description=\"Why this query is relevant to the user's request.\"\n",
    "    )\n",
    "\n",
    "\n",
    "# Augment the LLM with schema for structured output\n",
    "structured_llm = llm.with_structured_output(SearchQuery)\n",
    "\n",
    "# Invoke the augmented LLM\n",
    "output = structured_llm.invoke(\"How does Calcium CT score relate to high cholesterol?\")\n",
    "\n",
    "# Define a tool\n",
    "def multiply(a: int, b: int) -> int:\n",
    "    return a * b\n",
    "\n",
    "# Augment the LLM with tools\n",
    "llm_with_tools = llm.bind_tools([multiply])\n",
    "\n",
    "# Invoke the LLM with input that triggers the tool call\n",
    "msg = llm_with_tools.invoke(\"What is 2 times 3?\")\n",
    "\n",
    "# Get the tool call\n",
    "msg.tool_calls"
   ]
  },
  {
   "cell_type": "code",
   "execution_count": null,
   "metadata": {},
   "outputs": [],
   "source": [
    "# Define tools\n",
    "@tool\n",
    "def multiply(a: int, b: int) -> int:\n",
    "    \"\"\"Multiply a and b.\n",
    "\n",
    "    Args:\n",
    "        a: first int\n",
    "        b: second int\n",
    "    \"\"\"\n",
    "    return a * b\n",
    "\n",
    "\n",
    "@tool\n",
    "def add(a: int, b: int) -> int:\n",
    "    \"\"\"Adds a and b.\n",
    "\n",
    "    Args:\n",
    "        a: first int\n",
    "        b: second int\n",
    "    \"\"\"\n",
    "    return a + b\n",
    "\n",
    "\n",
    "@tool\n",
    "def divide(a: int, b: int) -> float:\n",
    "    \"\"\"Divide a and b.\n",
    "\n",
    "    Args:\n",
    "        a: first int\n",
    "        b: second int\n",
    "    \"\"\"\n",
    "    return a / b\n",
    "\n",
    "\n",
    "# Augment the LLM with tools\n",
    "tools = [add, multiply, divide]\n",
    "tools_by_name = {tool.name: tool for tool in tools}\n",
    "llm_with_tools = llm.bind_tools(tools)"
   ]
  },
  {
   "cell_type": "code",
   "execution_count": 24,
   "metadata": {},
   "outputs": [
    {
     "data": {
      "image/png": "[encoded data removed]",
      "text/plain": [
       "<IPython.core.display.Image object>"
      ]
     },
     "metadata": {},
     "output_type": "display_data"
    },
    {
     "name": "stdout",
     "output_type": "stream",
     "text": [
      "STATE MESSAGE [HumanMessage(content='Add 3 and 4. Then multiply the result by 10', additional_kwargs={}, response_metadata={}, id='a289bf98-e60b-4929-a326-a3303370e8b1')]\n",
      "RESULTS [ToolMessage(content='observation', tool_call_id='toolu_01A1Y25kcBs7hhmNLrTs79Pm')]\n",
      "STATE MESSAGE [HumanMessage(content='Add 3 and 4. Then multiply the result by 10', additional_kwargs={}, response_metadata={}, id='a289bf98-e60b-4929-a326-a3303370e8b1'), AIMessage(content=[{'text': \"I'll help you with this calculation. Let's break it down into steps:\\n\\n1. First, let's add 3 and 4:\", 'type': 'text'}, {'id': 'toolu_01A1Y25kcBs7hhmNLrTs79Pm', 'input': {'a': 3, 'b': 4}, 'name': 'add', 'type': 'tool_use'}], additional_kwargs={}, response_metadata={'id': 'msg_01TFUvwU6xki15br9S6Q5q24', 'model': 'claude-3-5-sonnet-20241022', 'stop_reason': 'tool_use', 'stop_sequence': None, 'usage': {'cache_creation_input_tokens': 0, 'cache_read_input_tokens': 0, 'input_tokens': 604, 'output_tokens': 100}, 'model_name': 'claude-3-5-sonnet-20241022'}, id='run-d0cbc70a-80a3-417e-8b99-b94a17e4b9d4-0', tool_calls=[{'name': 'add', 'args': {'a': 3, 'b': 4}, 'id': 'toolu_01A1Y25kcBs7hhmNLrTs79Pm', 'type': 'tool_call'}], usage_metadata={'input_tokens': 604, 'output_tokens': 100, 'total_tokens': 704, 'input_token_details': {'cache_read': 0, 'cache_creation': 0}}), ToolMessage(content='observation', id='eeee3cc6-4e2c-4efc-a377-986b3c94e6ef', tool_call_id='toolu_01A1Y25kcBs7hhmNLrTs79Pm')]\n",
      "RESULTS [ToolMessage(content='observation', tool_call_id='toolu_014Pyk61vwsxc4LmbZXb7ZgT')]\n",
      "STATE MESSAGE [HumanMessage(content='Add 3 and 4. Then multiply the result by 10', additional_kwargs={}, response_metadata={}, id='a289bf98-e60b-4929-a326-a3303370e8b1'), AIMessage(content=[{'text': \"I'll help you with this calculation. Let's break it down into steps:\\n\\n1. First, let's add 3 and 4:\", 'type': 'text'}, {'id': 'toolu_01A1Y25kcBs7hhmNLrTs79Pm', 'input': {'a': 3, 'b': 4}, 'name': 'add', 'type': 'tool_use'}], additional_kwargs={}, response_metadata={'id': 'msg_01TFUvwU6xki15br9S6Q5q24', 'model': 'claude-3-5-sonnet-20241022', 'stop_reason': 'tool_use', 'stop_sequence': None, 'usage': {'cache_creation_input_tokens': 0, 'cache_read_input_tokens': 0, 'input_tokens': 604, 'output_tokens': 100}, 'model_name': 'claude-3-5-sonnet-20241022'}, id='run-d0cbc70a-80a3-417e-8b99-b94a17e4b9d4-0', tool_calls=[{'name': 'add', 'args': {'a': 3, 'b': 4}, 'id': 'toolu_01A1Y25kcBs7hhmNLrTs79Pm', 'type': 'tool_call'}], usage_metadata={'input_tokens': 604, 'output_tokens': 100, 'total_tokens': 704, 'input_token_details': {'cache_read': 0, 'cache_creation': 0}}), ToolMessage(content='observation', id='eeee3cc6-4e2c-4efc-a377-986b3c94e6ef', tool_call_id='toolu_01A1Y25kcBs7hhmNLrTs79Pm'), AIMessage(content=[{'text': \"The result of 3 + 4 = 7\\n\\n2. Now, let's multiply this result (7) by 10:\", 'type': 'text'}, {'id': 'toolu_014Pyk61vwsxc4LmbZXb7ZgT', 'input': {'a': 7, 'b': 10}, 'name': 'multiply', 'type': 'tool_use'}], additional_kwargs={}, response_metadata={'id': 'msg_01YREXppUuPMGDtehy736jgW', 'model': 'claude-3-5-sonnet-20241022', 'stop_reason': 'tool_use', 'stop_sequence': None, 'usage': {'cache_creation_input_tokens': 0, 'cache_read_input_tokens': 0, 'input_tokens': 716, 'output_tokens': 100}, 'model_name': 'claude-3-5-sonnet-20241022'}, id='run-0bd3156c-7089-4819-974c-4cf28512c6a8-0', tool_calls=[{'name': 'multiply', 'args': {'a': 7, 'b': 10}, 'id': 'toolu_014Pyk61vwsxc4LmbZXb7ZgT', 'type': 'tool_call'}], usage_metadata={'input_tokens': 716, 'output_tokens': 100, 'total_tokens': 816, 'input_token_details': {'cache_read': 0, 'cache_creation': 0}}), ToolMessage(content='observation', id='bd90a71f-64e5-4eca-9832-03343ec5f651', tool_call_id='toolu_014Pyk61vwsxc4LmbZXb7ZgT')]\n",
      "================================\u001b[1m Human Message \u001b[0m=================================\n",
      "\n",
      "Add 3 and 4. Then multiply the result by 10\n",
      "==================================\u001b[1m Ai Message \u001b[0m==================================\n",
      "\n",
      "[{'text': \"I'll help you with this calculation. Let's break it down into steps:\\n\\n1. First, let's add 3 and 4:\", 'type': 'text'}, {'id': 'toolu_01A1Y25kcBs7hhmNLrTs79Pm', 'input': {'a': 3, 'b': 4}, 'name': 'add', 'type': 'tool_use'}]\n",
      "Tool Calls:\n",
      "  add (toolu_01A1Y25kcBs7hhmNLrTs79Pm)\n",
      " Call ID: toolu_01A1Y25kcBs7hhmNLrTs79Pm\n",
      "  Args:\n",
      "    a: 3\n",
      "    b: 4\n",
      "=================================\u001b[1m Tool Message \u001b[0m=================================\n",
      "\n",
      "observation\n",
      "==================================\u001b[1m Ai Message \u001b[0m==================================\n",
      "\n",
      "[{'text': \"The result of 3 + 4 = 7\\n\\n2. Now, let's multiply this result (7) by 10:\", 'type': 'text'}, {'id': 'toolu_014Pyk61vwsxc4LmbZXb7ZgT', 'input': {'a': 7, 'b': 10}, 'name': 'multiply', 'type': 'tool_use'}]\n",
      "Tool Calls:\n",
      "  multiply (toolu_014Pyk61vwsxc4LmbZXb7ZgT)\n",
      " Call ID: toolu_014Pyk61vwsxc4LmbZXb7ZgT\n",
      "  Args:\n",
      "    a: 7\n",
      "    b: 10\n",
      "=================================\u001b[1m Tool Message \u001b[0m=================================\n",
      "\n",
      "observation\n",
      "==================================\u001b[1m Ai Message \u001b[0m==================================\n",
      "\n",
      "So, the final result after adding 3 and 4, and then multiplying by 10 is 70.\n"
     ]
    }
   ],
   "source": [
    "# Nodes\n",
    "def llm_call(state: MessagesState):\n",
    "    \"\"\"LLM decides whether to call a tool or not\"\"\"\n",
    "    print(\"STATE MESSAGE\", state['messages'])\n",
    "    return {\n",
    "        \"messages\": [\n",
    "            llm_with_tools.invoke(\n",
    "                [\n",
    "                    SystemMessage(\n",
    "                        content=\"You are a helpful assistant tasked with performing arithmetic on a set of inputs.\"\n",
    "                    )\n",
    "                ]\n",
    "                + state[\"messages\"]\n",
    "            )\n",
    "        ]\n",
    "    }\n",
    "\n",
    "\n",
    "def tool_node(state: dict):\n",
    "    \"\"\"Performs the tool call\"\"\"\n",
    "\n",
    "    result = []\n",
    "    for tool_call in state[\"messages\"][-1].tool_calls:\n",
    "        tool = tools_by_name[tool_call[\"name\"]]\n",
    "        observation = tool.invoke(tool_call[\"args\"])\n",
    "        result.append(ToolMessage(content=\"observation\", tool_call_id=tool_call[\"id\"]))\n",
    "    print(\"RESULTS\",result)\n",
    "    return {\"messages\": result}\n",
    "\n",
    "\n",
    "# Conditional edge function to route to the tool node or end based upon whether the LLM made a tool call\n",
    "def should_continue(state: MessagesState) -> Literal[\"environment\", END]:\n",
    "    \"\"\"Decide if we should continue the loop or stop based upon whether the LLM made a tool call\"\"\"\n",
    "\n",
    "    messages = state[\"messages\"]\n",
    "    last_message = messages[-1]\n",
    "    # If the LLM makes a tool call, then perform an action\n",
    "    if last_message.tool_calls:\n",
    "        return \"Action\"\n",
    "    # Otherwise, we stop (reply to the user)\n",
    "    return END\n",
    "\n",
    "\n",
    "# Build workflow\n",
    "agent_builder = StateGraph(MessagesState)\n",
    "\n",
    "# Add nodes\n",
    "agent_builder.add_node(\"llm_call\", llm_call)\n",
    "agent_builder.add_node(\"environment\", tool_node)\n",
    "\n",
    "# Add edges to connect nodes\n",
    "agent_builder.add_edge(START, \"llm_call\")\n",
    "agent_builder.add_conditional_edges(\n",
    "    \"llm_call\",\n",
    "    should_continue,\n",
    "    {\n",
    "        # Name returned by should_continue : Name of next node to visit\n",
    "        \"Action\": \"environment\",\n",
    "        END: END,\n",
    "    },\n",
    ")\n",
    "agent_builder.add_edge(\"environment\", \"llm_call\")\n",
    "\n",
    "# Compile the agent\n",
    "agent = agent_builder.compile()\n",
    "\n",
    "# Show the agent\n",
    "display(Image(agent.get_graph(xray=True).draw_mermaid_png()))\n",
    "\n",
    "# Invoke\n",
    "messages = [HumanMessage(content=\"Add 3 and 4. Then multiply the result by 10\")]\n",
    "messages = agent.invoke({\"messages\": messages})\n",
    "for m in messages[\"messages\"]:\n",
    "    m.pretty_print()"
   ]
  }
 ],
 "metadata": {
  "kernelspec": {
   "display_name": "venv",
   "language": "python",
   "name": "python3"
  },
  "language_info": {
   "codemirror_mode": {
    "name": "ipython",
    "version": 3
   },
   "file_extension": ".py",
   "mimetype": "text/x-python",
   "name": "python",
   "nbconvert_exporter": "python",
   "pygments_lexer": "ipython3",
   "version": "3.12.8"
  }
 },
 "nbformat": 4,
 "nbformat_minor": 2
}
