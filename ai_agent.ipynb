{
 "cells": [
  {
   "cell_type": "code",
   "execution_count": 10,
   "metadata": {},
   "outputs": [],
   "source": [
    "from llama_index.llms.ollama import Ollama\n",
    "# from langchain_openai import ChatOpenAI\n",
    "from llama_parse import LlamaParse\n",
    "from llama_index.core import VectorStoreIndex, SimpleDirectoryReader, PromptTemplate\n",
    "from llama_index.core.embeddings import resolve_embed_model\n",
    "from llama_index.core.tools import QueryEngineTool, ToolMetadata\n",
    "from llama_index.core.agent import ReActAgent\n",
    "from llama_index.llms.openai import OpenAI\n",
    "from pydantic import BaseModel, Field\n",
    "from llama_index.core.output_parsers import PydanticOutputParser\n",
    "from llama_index.core.query_pipeline import QueryPipeline\n",
    "from prompts import context, code_parser_template\n",
    "from code_reader import code_reader\n",
    "from dotenv import load_dotenv\n",
    "import os\n",
    "import ast\n",
    "from typing import List\n",
    "\n",
    "# from llama_index.core.tools import BaseTool, FunctionTool"
   ]
  },
  {
   "cell_type": "code",
   "execution_count": 11,
   "metadata": {},
   "outputs": [],
   "source": [
    "load_dotenv()\n",
    "OPENAI_API_KEY = os.environ.get(\"OPENAI_API_KEY\")\n",
    "LLAMAPARSE_API_KEY = os.environ.get(\"LLAMAPARSE_API_KEY\")"
   ]
  },
  {
   "cell_type": "code",
   "execution_count": 12,
   "metadata": {},
   "outputs": [
    {
     "name": "stdout",
     "output_type": "stream",
     "text": [
      "Failed to load file d:\\Workspace\\personal\\ai_agent\\data\\readme.pdf with error: The event loop is already running. Add `import nest_asyncio; nest_asyncio.apply()` to your code to fix this issue.. Skipping...\n"
     ]
    },
    {
     "name": "stderr",
     "output_type": "stream",
     "text": [
      "d:\\Workspace\\personal\\ai_agent\\venv\\Lib\\site-packages\\llama_index\\core\\readers\\file\\base.py:553: RuntimeWarning: coroutine 'LlamaParse.aload_data' was never awaited\n",
      "  return []\n",
      "RuntimeWarning: Enable tracemalloc to get the object allocation traceback\n"
     ]
    },
    {
     "name": "stdout",
     "output_type": "stream",
     "text": [
      " The API defined in the provided context has several routes:\n",
      "\n",
      "1. `/items` (POST and GET methods): This route is used for creating and reading all items.\n",
      "\n",
      "2. `/items/{item_id}` (GET, PUT, DELETE methods): This route is used for retrieving specific items by their ID, updating them, or deleting them from the in-memory \"database\". The curly brackets `{}` indicate that `{item_id}` is a variable and should be replaced with an actual integer when making requests.\n"
     ]
    }
   ],
   "source": [
    "llm = Ollama(model=\"mistral\", request_timeout=30.0)\n",
    "\n",
    "parser = LlamaParse(result_type=\"markdown\", api_key=LLAMAPARSE_API_KEY)\n",
    "file_extractor = {\".pdf\": parser}\n",
    "documents = SimpleDirectoryReader(\"./data\", file_extractor=file_extractor).load_data()\n",
    "\n",
    "embed_model = resolve_embed_model(\"local:BAAI/bge-m3\")\n",
    "vector_index = VectorStoreIndex.from_documents(documents, embed_model=embed_model)\n",
    "query_engine = vector_index.as_query_engine(llm=llm)\n",
    "\n",
    "result = query_engine.query(\"what are some of the routes in the api?\")\n",
    "print(result)"
   ]
  },
  {
   "cell_type": "code",
   "execution_count": null,
   "metadata": {},
   "outputs": [
    {
     "name": "stdout",
     "output_type": "stream",
     "text": [
      "Parse the response from a previous LLM into a description and a string of valid code, \n",
      "                            also come up with a valid filename this could be saved as that doesnt contain special characters. \n",
      "                            Here is the response: {response}. You should parse this in the following JSON Format: \n",
      "\n",
      "\n",
      "Here's a JSON schema to follow:\n",
      "{{\"properties\": {{\"code\": {{\"title\": \"Code\", \"type\": \"string\"}}, \"description\": {{\"title\": \"Description\", \"type\": \"string\"}}, \"filename\": {{\"title\": \"Filename\", \"type\": \"string\"}}}}, \"required\": [\"code\", \"description\", \"filename\"], \"title\": \"CodeOutput\", \"type\": \"object\"}}\n",
      "\n",
      "Output a valid JSON object but do not repeat the schema.\n",
      "\n",
      "##########################\n",
      "metadata={'prompt_type': <PromptType.CUSTOM: 'custom'>} template_vars=['response'] kwargs={} output_parser=None template_var_mappings=None function_mappings=None template='Parse the response from a previous LLM into a description and a string of valid code, \\n                            also come up with a valid filename this could be saved as that doesnt contain special characters. \\n                            Here is the response: {response}. You should parse this in the following JSON Format: \\n\\n\\nHere\\'s a JSON schema to follow:\\n{{\"properties\": {{\"code\": {{\"title\": \"Code\", \"type\": \"string\"}}, \"description\": {{\"title\": \"Description\", \"type\": \"string\"}}, \"filename\": {{\"title\": \"Filename\", \"type\": \"string\"}}}}, \"required\": [\"code\", \"description\", \"filename\"], \"title\": \"CodeOutput\", \"type\": \"object\"}}\\n\\nOutput a valid JSON object but do not repeat the schema.\\n'\n"
     ]
    }
   ],
   "source": [
    "tools = [\n",
    "    QueryEngineTool(\n",
    "        query_engine=query_engine,\n",
    "        metadata=ToolMetadata(\n",
    "            name=\"api_documentation\",\n",
    "            description=\"this gives documentation about code for an API. Use this for reading docs for the API\",\n",
    "        ),\n",
    "    ),\n",
    "    code_reader,\n",
    "]\n",
    "\n",
    "code_llm = Ollama(model=\"codellama\")\n",
    "agent = ReActAgent.from_tools(tools, llm=code_llm, verbose=True, context=context)\n",
    "\n",
    "class CodeOutput(BaseModel):\n",
    "    code: str\n",
    "    description: str\n",
    "    filename: str\n",
    "\n",
    "\n",
    "parser = PydanticOutputParser(CodeOutput)\n",
    "json_prompt_str = parser.format(code_parser_template)\n",
    "print(json_prompt_str)\n",
    "json_prompt_tmpl = PromptTemplate(json_prompt_str)\n",
    "print(\"##########################\")\n",
    "print(json_prompt_tmpl)\n",
    "output_pipeline = QueryPipeline(chain=[json_prompt_tmpl, llm])\n"
   ]
  },
  {
   "cell_type": "code",
   "execution_count": null,
   "metadata": {},
   "outputs": [],
   "source": [
    "output_pipeline = QueryPipeline(chain=[json_prompt_tmpl, llm, parser])\n",
    "result = agent.query(\"read the contents of test.py and write a python script that calls the post end point to make a new item.\")\n",
    "next_result = output_pipeline.run(response=result)"
   ]
  },
  {
   "cell_type": "code",
   "execution_count": null,
   "metadata": {},
   "outputs": [
    {
     "name": "stdout",
     "output_type": "stream",
     "text": [
      "> Running step db9244c2-85a9-41fc-b997-bfbc0bbc733b. Step input: read the contents of test.py and write a python script that calls the post end point to make a new item.     retries = 0\n",
      "\u001b[1;3;38;5;200mThought: I can answer this question without using any more tools. I'll use the user's language to answer.\n",
      "Action: code_reader\n",
      "Action Input: {'file_name': 'test.py'}\n",
      "\u001b[0m\u001b[1;3;34mObservation: {'file_content': 'from flask import Flask, request, jsonify\\n\\napp = Flask(__name__)\\n\\n# In-memory \"database\" for simplicity\\nitems = []\\n\\n\\n# Create\\n@app.route(\"/items\", methods=[\"POST\"])\\ndef create_item():\\n    data = request.get_json()\\n    items.append(data)\\n    return jsonify(data), 201\\n\\n\\n# Read all\\n@app.route(\"/items\", methods=[\"GET\"])\\ndef read_items():\\n    return jsonify(items)\\n\\n\\n# Read one\\n@app.route(\"/items/<int:item_id>\", methods=[\"GET\"])\\ndef read_item(item_id):\\n    if item_id < 0 or item_id >= len(items):\\n        return \"Item not found.\", 404\\n    return jsonify(items[item_id])\\n\\n\\n# Update\\n@app.route(\"/items/<int:item_id>\", methods=[\"PUT\"])\\ndef update_item(item_id):\\n    if item_id < 0 or item_id >= len(items):\\n        return \"Item not found.\", 404\\n    data = request.get_json()\\n    items[item_id] = data\\n    return jsonify(data)\\n\\n\\n# Delete\\n@app.route(\"/items/<int:item_id>\", methods=[\"DELETE\"])\\ndef delete_item(item_id):\\n    if item_id < 0 or item_id >= len(items):\\n        return \"Item not found.\", 404\\n    del items[item_id]\\n    return \"\", 204\\n\\n\\nif __name__ == \"__main__\":\\n    app.run(debug=True)\\n'}\n",
      "\u001b[0m> Running step 9952d24f-e17d-4e3b-8cb9-0627d82a05fe. Step input: None\n",
      "\u001b[1;3;38;5;200mThought: I can answer this question without using any more tools. I'll use the user's language to answer.\n",
      "Action: code_reader\n",
      "Action Input: {'file_name': 'test.py'}\n",
      "\u001b[0m\u001b[1;3;34mObservation: {'file_content': 'from flask import Flask, request, jsonify\\n\\napp = Flask(__name__)\\n\\n# In-memory \"database\" for simplicity\\nitems = []\\n\\n\\n# Create\\n@app.route(\"/items\", methods=[\"POST\"])\\ndef create_item():\\n    data = request.get_json()\\n    items.append(data)\\n    return jsonify(data), 201\\n\\n\\n# Read all\\n@app.route(\"/items\", methods=[\"GET\"])\\ndef read_items():\\n    return jsonify(items)\\n\\n\\n# Read one\\n@app.route(\"/items/<int:item_id>\", methods=[\"GET\"])\\ndef read_item(item_id):\\n    if item_id < 0 or item_id >= len(items):\\n        return \"Item not found.\", 404\\n    return jsonify(items[item_id])\\n\\n\\n# Update\\n@app.route(\"/items/<int:item_id>\", methods=[\"PUT\"])\\ndef update_item(item_id):\\n    if item_id < 0 or item_id >= len(items):\\n        return \"Item not found.\", 404\\n    data = request.get_json()\\n    items[item_id] = data\\n    return jsonify(data)\\n\\n\\n# Delete\\n@app.route(\"/items/<int:item_id>\", methods=[\"DELETE\"])\\ndef delete_item(item_id):\\n    if item_id < 0 or item_id >= len(items):\\n        return \"Item not found.\", 404\\n    del items[item_id]\\n    return \"\", 204\\n\\n\\nif __name__ == \"__main__\":\\n    app.run(debug=True)\\n'}\n",
      "\u001b[0m> Running step a83a475f-19f7-433d-bb2c-4f5920a62e18. Step input: None\n",
      "\u001b[1;3;38;5;200mThought: I can answer this question without using any more tools. I'll use the user's language to answer.\n",
      "Action: code_reader\n",
      "Action Input: {'file_name': 'test.py'}\n",
      "\u001b[0m\u001b[1;3;34mObservation: {'file_content': 'from flask import Flask, request, jsonify\\n\\napp = Flask(__name__)\\n\\n# In-memory \"database\" for simplicity\\nitems = []\\n\\n\\n# Create\\n@app.route(\"/items\", methods=[\"POST\"])\\ndef create_item():\\n    data = request.get_json()\\n    items.append(data)\\n    return jsonify(data), 201\\n\\n\\n# Read all\\n@app.route(\"/items\", methods=[\"GET\"])\\ndef read_items():\\n    return jsonify(items)\\n\\n\\n# Read one\\n@app.route(\"/items/<int:item_id>\", methods=[\"GET\"])\\ndef read_item(item_id):\\n    if item_id < 0 or item_id >= len(items):\\n        return \"Item not found.\", 404\\n    return jsonify(items[item_id])\\n\\n\\n# Update\\n@app.route(\"/items/<int:item_id>\", methods=[\"PUT\"])\\ndef update_item(item_id):\\n    if item_id < 0 or item_id >= len(items):\\n        return \"Item not found.\", 404\\n    data = request.get_json()\\n    items[item_id] = data\\n    return jsonify(data)\\n\\n\\n# Delete\\n@app.route(\"/items/<int:item_id>\", methods=[\"DELETE\"])\\ndef delete_item(item_id):\\n    if item_id < 0 or item_id >= len(items):\\n        return \"Item not found.\", 404\\n    del items[item_id]\\n    return \"\", 204\\n\\n\\nif __name__ == \"__main__\":\\n    app.run(debug=True)\\n'}\n",
      "\u001b[0m> Running step f4cd8bf7-5c48-43a1-9b7f-acc3ee57194b. Step input: None\n",
      "\u001b[1;3;38;5;200mThought: I can answer this question without using any more tools. I'll use the user's language to answer.\n",
      "Action: code_reader\n",
      "Action Input: {'file_name': 'test.py'}\n",
      "\u001b[0m\u001b[1;3;34mObservation: {'file_content': 'from flask import Flask, request, jsonify\\n\\napp = Flask(__name__)\\n\\n# In-memory \"database\" for simplicity\\nitems = []\\n\\n\\n# Create\\n@app.route(\"/items\", methods=[\"POST\"])\\ndef create_item():\\n    data = request.get_json()\\n    items.append(data)\\n    return jsonify(data), 201\\n\\n\\n# Read all\\n@app.route(\"/items\", methods=[\"GET\"])\\ndef read_items():\\n    return jsonify(items)\\n\\n\\n# Read one\\n@app.route(\"/items/<int:item_id>\", methods=[\"GET\"])\\ndef read_item(item_id):\\n    if item_id < 0 or item_id >= len(items):\\n        return \"Item not found.\", 404\\n    return jsonify(items[item_id])\\n\\n\\n# Update\\n@app.route(\"/items/<int:item_id>\", methods=[\"PUT\"])\\ndef update_item(item_id):\\n    if item_id < 0 or item_id >= len(items):\\n        return \"Item not found.\", 404\\n    data = request.get_json()\\n    items[item_id] = data\\n    return jsonify(data)\\n\\n\\n# Delete\\n@app.route(\"/items/<int:item_id>\", methods=[\"DELETE\"])\\ndef delete_item(item_id):\\n    if item_id < 0 or item_id >= len(items):\\n        return \"Item not found.\", 404\\n    del items[item_id]\\n    return \"\", 204\\n\\n\\nif __name__ == \"__main__\":\\n    app.run(debug=True)\\n'}\n",
      "\u001b[0m> Running step 0aea03ed-6b0d-477c-ae7c-f40f0c2aaaca. Step input: None\n",
      "\u001b[1;3;38;5;200mThought: I can answer this question without using any more tools. I'll use the user's language to answer.\n",
      "Action: code_reader\n",
      "Action Input: {'file_name': 'test.py'}\n",
      "\u001b[0m\u001b[1;3;34mObservation: {'file_content': 'from flask import Flask, request, jsonify\\n\\napp = Flask(__name__)\\n\\n# In-memory \"database\" for simplicity\\nitems = []\\n\\n\\n# Create\\n@app.route(\"/items\", methods=[\"POST\"])\\ndef create_item():\\n    data = request.get_json()\\n    items.append(data)\\n    return jsonify(data), 201\\n\\n\\n# Read all\\n@app.route(\"/items\", methods=[\"GET\"])\\ndef read_items():\\n    return jsonify(items)\\n\\n\\n# Read one\\n@app.route(\"/items/<int:item_id>\", methods=[\"GET\"])\\ndef read_item(item_id):\\n    if item_id < 0 or item_id >= len(items):\\n        return \"Item not found.\", 404\\n    return jsonify(items[item_id])\\n\\n\\n# Update\\n@app.route(\"/items/<int:item_id>\", methods=[\"PUT\"])\\ndef update_item(item_id):\\n    if item_id < 0 or item_id >= len(items):\\n        return \"Item not found.\", 404\\n    data = request.get_json()\\n    items[item_id] = data\\n    return jsonify(data)\\n\\n\\n# Delete\\n@app.route(\"/items/<int:item_id>\", methods=[\"DELETE\"])\\ndef delete_item(item_id):\\n    if item_id < 0 or item_id >= len(items):\\n        return \"Item not found.\", 404\\n    del items[item_id]\\n    return \"\", 204\\n\\n\\nif __name__ == \"__main__\":\\n    app.run(debug=True)\\n'}\n",
      "\u001b[0mError occured, retry #1: Reached max iterations.\n",
      "> Running step b555879e-5935-425a-abe6-28cbcb5cf181. Step input: read the contents of test.py and write a python script that calls the post end point to make a new item.     retries = 0\n",
      "\u001b[1;3;38;5;200mThought: I'll use the tool \"code_reader\" to read the contents of test.py.\n",
      "Action: code_reader\n",
      "Action Input: {'file_name': 'test.py'}\n",
      "\u001b[0m\u001b[1;3;34mObservation: {'file_content': 'from flask import Flask, request, jsonify\\n\\napp = Flask(__name__)\\n\\n# In-memory \"database\" for simplicity\\nitems = []\\n\\n\\n# Create\\n@app.route(\"/items\", methods=[\"POST\"])\\ndef create_item():\\n    data = request.get_json()\\n    items.append(data)\\n    return jsonify(data), 201\\n\\n\\n# Read all\\n@app.route(\"/items\", methods=[\"GET\"])\\ndef read_items():\\n    return jsonify(items)\\n\\n\\n# Read one\\n@app.route(\"/items/<int:item_id>\", methods=[\"GET\"])\\ndef read_item(item_id):\\n    if item_id < 0 or item_id >= len(items):\\n        return \"Item not found.\", 404\\n    return jsonify(items[item_id])\\n\\n\\n# Update\\n@app.route(\"/items/<int:item_id>\", methods=[\"PUT\"])\\ndef update_item(item_id):\\n    if item_id < 0 or item_id >= len(items):\\n        return \"Item not found.\", 404\\n    data = request.get_json()\\n    items[item_id] = data\\n    return jsonify(data)\\n\\n\\n# Delete\\n@app.route(\"/items/<int:item_id>\", methods=[\"DELETE\"])\\ndef delete_item(item_id):\\n    if item_id < 0 or item_id >= len(items):\\n        return \"Item not found.\", 404\\n    del items[item_id]\\n    return \"\", 204\\n\\n\\nif __name__ == \"__main__\":\\n    app.run(debug=True)\\n'}\n",
      "\u001b[0m> Running step 9f6abe15-3dd6-4005-9676-05fe6a3a4c4b. Step input: None\n",
      "\u001b[1;3;38;5;200mThought: I can answer without using any more tools. I'll use the user's language to answer.\n",
      "Answer: The code in test.py defines a Flask API with four endpoints: create, read all, read one, and update. Each endpoint takes different HTTP methods (POST for create, GET for read all and read one, PUT for update, and DELETE for delete). The endpoints also use the JSON data sent in the request body to create, update or delete items from a simple \"database\" stored in memory. The code also includes a main function that runs the Flask app in debug mode.\n",
      "\u001b[0mASKJKLAFJKL:J:FJAS:KLDJKLASDJ\n",
      "cleaned_jsoncleaned_jsoncleaned_jsoncleaned_jsoncleaned_json {'code': \"from flask import Flask, request, jsonify\\n\\napp = Flask(__name__)\\n\\nitems = []\\n\\n@app.route('/create', methods=['POST'])\\ndef create_item():\\n    data = request.get_json()\\n    items.append(data)\\n    return jsonify({'message': 'Item created'})\\n\\n@app.route('/read_all', methods=['GET'])\\ndef read_all_items():\\n    return jsonify({'items': items})\\n\\n@app.route('/read_one/<int:index>', methods=['GET'])\\ndef read_one_item(index):\\n    return jsonify(items[index])\\n\\n@app.route('/update/<int:index>', methods=['PUT'])\\ndef update_item(index):\\n    data = request.get_json()\\n    items[index] = data\\n    return jsonify({'message': 'Item updated'})\\n\\n@app.route('/delete/<int:index>', methods=['DELETE'])\\ndef delete_item(index):\\n    del items[index]\\n    return jsonify({'message': 'Item deleted'})\\n\\nif __name__ == '__main__':\\n    app.run(debug=True)\", 'description': \"The code in test.py defines a Flask API with four endpoints: create, read all, read one, and update. Each endpoint takes different HTTP methods (POST for create, GET for read all and read one, PUT for update, and DELETE for delete). The endpoints also use the JSON data sent in the request body to create, update or delete items from a simple 'database' stored in memory. The code also includes a main function that runs the Flask app in debug mode.\", 'filename': 'flask_api'}\n",
      "Code generated\n",
      "from flask import Flask, request, jsonify\n",
      "\n",
      "app = Flask(__name__)\n",
      "\n",
      "items = []\n",
      "\n",
      "@app.route('/create', methods=['POST'])\n",
      "def create_item():\n",
      "    data = request.get_json()\n",
      "    items.append(data)\n",
      "    return jsonify({'message': 'Item created'})\n",
      "\n",
      "@app.route('/read_all', methods=['GET'])\n",
      "def read_all_items():\n",
      "    return jsonify({'items': items})\n",
      "\n",
      "@app.route('/read_one/<int:index>', methods=['GET'])\n",
      "def read_one_item(index):\n",
      "    return jsonify(items[index])\n",
      "\n",
      "@app.route('/update/<int:index>', methods=['PUT'])\n",
      "def update_item(index):\n",
      "    data = request.get_json()\n",
      "    items[index] = data\n",
      "    return jsonify({'message': 'Item updated'})\n",
      "\n",
      "@app.route('/delete/<int:index>', methods=['DELETE'])\n",
      "def delete_item(index):\n",
      "    del items[index]\n",
      "    return jsonify({'message': 'Item deleted'})\n",
      "\n",
      "if __name__ == '__main__':\n",
      "    app.run(debug=True)\n",
      "\n",
      "\n",
      "Desciption: The code in test.py defines a Flask API with four endpoints: create, read all, read one, and update. Each endpoint takes different HTTP methods (POST for create, GET for read all and read one, PUT for update, and DELETE for delete). The endpoints also use the JSON data sent in the request body to create, update or delete items from a simple 'database' stored in memory. The code also includes a main function that runs the Flask app in debug mode.\n",
      "Saved file flask_api\n"
     ]
    }
   ],
   "source": [
    "while (prompt := input(\"Enter a prompt (q to quit): \")) != \"q\":     #   read the contents of test.py and write a python script that calls the post end point to make a new item.\n",
    "    retries = 0\n",
    "\n",
    "    while retries < 3:\n",
    "        try:\n",
    "            result = agent.query(prompt)\n",
    "            next_result = output_pipeline.run(response=result)\n",
    "            cleaned_json = ast.literal_eval(str(next_result).replace(\"assistant:\", \"\"))\n",
    "            break\n",
    "        except Exception as e:\n",
    "            retries += 1\n",
    "            print(f\"Error occured, retry #{retries}:\", e)\n",
    "\n",
    "    if retries >= 3: \n",
    "        print(\"Unable to process request, try again...\")\n",
    "        continue\n",
    "\n",
    "    print(\"Code generated\")\n",
    "    print(cleaned_json[\"code\"])\n",
    "    print(\"\\n\\nDesciption:\", cleaned_json[\"description\"])\n",
    "\n",
    "    filename = cleaned_json[\"filename\"]\n",
    "\n",
    "    try:\n",
    "        with open(os.path.join(\"output\", filename), \"w\") as f:\n",
    "            f.write(cleaned_json[\"code\"])\n",
    "        print(\"Saved file\", filename)\n",
    "    except:\n",
    "        print(\"Error saving file...\")"
   ]
  },
  {
   "cell_type": "markdown",
   "metadata": {},
   "source": [
    "# Example from https://docs.llamaindex.ai/en/stable/examples/pipeline/query_pipeline/"
   ]
  },
  {
   "cell_type": "code",
   "execution_count": 19,
   "metadata": {},
   "outputs": [
    {
     "name": "stdout",
     "output_type": "stream",
     "text": [
      "\u001b[1;3;38;2;155;135;227m> Running module 2f0de6aa-b40a-4082-ae1f-8619e801afb6 with input: \n",
      "movie_name: Toy Story\n",
      "\n",
      "\u001b[0m\u001b[1;3;38;2;155;135;227m> Running module 5011ec14-b9c6-413e-b3a4-4f5df78d250d with input: \n",
      "messages: \n",
      "Please generate related movies to Toy Story. Output with the following JSON format: \n",
      "\n",
      "\n",
      "\n",
      "Here's a JSON schema to follow:\n",
      "{\"$defs\": {\"Movie\": {\"description\": \"Object representing a single movie.\", \"pro...\n",
      "\n",
      "\u001b[0m\u001b[1;3;38;2;155;135;227m> Running module 2420f367-af4c-4cd5-85f6-ebe2291b9af3 with input: \n",
      "input: assistant: {\n",
      "  \"movies\": [\n",
      "    {\n",
      "      \"name\": \"Finding Nemo\",\n",
      "      \"year\": 2003\n",
      "    },\n",
      "    {\n",
      "      \"name\": \"Cars\",\n",
      "      \"year\": 2006\n",
      "    },\n",
      "    {\n",
      "      \"name\": \"Up\",\n",
      "      \"year\": 2009\n",
      "    },\n",
      "    {...\n",
      "\n",
      "\u001b[0m"
     ]
    },
    {
     "data": {
      "text/plain": [
       "Movies(movies=[Movie(name='Finding Nemo', year=2003), Movie(name='Cars', year=2006), Movie(name='Up', year=2009), Movie(name='Inside Out', year=2015)])"
      ]
     },
     "execution_count": 19,
     "metadata": {},
     "output_type": "execute_result"
    }
   ],
   "source": [
    "class Movie(BaseModel):\n",
    "    \"\"\"Object representing a single movie.\"\"\"\n",
    "\n",
    "    name: str = Field(..., description=\"Name of the movie.\")\n",
    "    year: int = Field(..., description=\"Year of the movie.\")\n",
    "\n",
    "\n",
    "class Movies(BaseModel):\n",
    "    \"\"\"Object representing a list of movies.\"\"\"\n",
    "\n",
    "    movies: List[Movie] = Field(..., description=\"List of movies.\")\n",
    "\n",
    "\n",
    "llm = OpenAI(model=\"gpt-3.5-turbo\")        # Local version of Ollama doesn't work.\n",
    "\n",
    "output_parser = PydanticOutputParser(Movies)\n",
    "json_prompt_str = \"\"\"\n",
    "Please generate related movies to {movie_name}. Output with the following JSON format: \n",
    "\"\"\"\n",
    "json_prompt_str = output_parser.format(json_prompt_str)  \n",
    "\n",
    "# add JSON spec to prompt template\n",
    "json_prompt_tmpl = PromptTemplate(json_prompt_str)\n",
    "\n",
    "p = QueryPipeline(chain=[json_prompt_tmpl, llm, output_parser], verbose=True)\n",
    "output = p.run(movie_name=\"Toy Story\")\n",
    "output"
   ]
  },
  {
   "cell_type": "code",
   "execution_count": null,
   "metadata": {},
   "outputs": [],
   "source": []
  }
 ],
 "metadata": {
  "kernelspec": {
   "display_name": "venv",
   "language": "python",
   "name": "python3"
  },
  "language_info": {
   "codemirror_mode": {
    "name": "ipython",
    "version": 3
   },
   "file_extension": ".py",
   "mimetype": "text/x-python",
   "name": "python",
   "nbconvert_exporter": "python",
   "pygments_lexer": "ipython3",
   "version": "3.12.7"
  }
 },
 "nbformat": 4,
 "nbformat_minor": 2
}
